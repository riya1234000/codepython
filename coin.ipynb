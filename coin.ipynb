{
 "cells": [
  {
   "cell_type": "code",
   "execution_count": null,
   "id": "dbd1b046-0161-4fa0-95b3-6f0d55a850b6",
   "metadata": {},
   "outputs": [],
   "source": [
    "import random\n",
    "count=0\n",
    "options= ['head', 'tail']\n",
    "while True:\n",
    "    choice= input(\"enter the user's choice: (yes/no): \").lower()\n",
    "    if choice==\"yes\":\n",
    "        coin1= random.choice(options)\n",
    "        coin2= random.choice(options)\n",
    "        count+=1\n",
    "        print(f' time if the coin toss: {count} \\n coin1: {coin1} \\n coin2: {coin2}')\n",
    "    elif(choice==\"no\"):\n",
    "        print('thanku so much for participting.....')\n",
    "        break\n",
    "    else:\n",
    "        print('please enter valid input.....\n",
    "        "
   ]
  }
 ],
 "metadata": {
  "kernelspec": {
   "display_name": "Python (data_scienceenv)",
   "language": "python",
   "name": "data_scienceenv"
  },
  "language_info": {
   "codemirror_mode": {
    "name": "ipython",
    "version": 3
   },
   "file_extension": ".py",
   "mimetype": "text/x-python",
   "name": "python",
   "nbconvert_exporter": "python",
   "pygments_lexer": "ipython3",
   "version": "3.13.2"
  }
 },
 "nbformat": 4,
 "nbformat_minor": 5
}
