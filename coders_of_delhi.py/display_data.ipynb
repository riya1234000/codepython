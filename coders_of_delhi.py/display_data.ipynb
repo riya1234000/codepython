{
 "cells": [
  {
   "cell_type": "code",
   "execution_count": 7,
   "id": "6893105e-2c53-4f79-89cf-79d259e94499",
   "metadata": {},
   "outputs": [
    {
     "name": "stdout",
     "output_type": "stream",
     "text": [
      "{\"users\": [{\"id\": 1, \"name\": \"Amit\", \"friends\": [2, 3], \"liked_pages\": [101]}, {\"id\": 2, \"name\": \"Priya\", \"friends\": [1, 4], \"liked_pages\": [102]}, {\"id\": 3, \"name\": \"Rahul\", \"friends\": [1], \"liked_pages\": [101, 103]}, {\"id\": 4, \"name\": \"Sara\", \"friends\": [2], \"liked_pages\": [104]}], \"pages\": [{\"id\": 101, \"name\": \"Python Developers\"}, {\"id\": 102, \"name\": \"Data Science Enthusiasts\"}, {\"id\": 103, \"name\": \"AI & ML Community\"}, {\"id\": 104, \"name\": \"Web Dev Hub\"}]}\n",
      "<class 'str'>\n"
     ]
    }
   ],
   "source": [
    "import json\n",
    "document={\n",
    "    \"users\": [\n",
    "        {\"id\": 1, \"name\": \"Amit\", \"friends\": [2, 3], \"liked_pages\": [101]},\n",
    "        {\"id\": 2, \"name\": \"Priya\", \"friends\": [1, 4], \"liked_pages\": [102]},\n",
    "        {\"id\": 3, \"name\": \"Rahul\", \"friends\": [1], \"liked_pages\": [101, 103]},\n",
    "        {\"id\": 4, \"name\": \"Sara\", \"friends\": [2], \"liked_pages\": [104]}\n",
    "    ],\n",
    "    \"pages\": [\n",
    "        {\"id\": 101, \"name\": \"Python Developers\"},\n",
    "        {\"id\": 102, \"name\": \"Data Science Enthusiasts\"},\n",
    "        {\"id\": 103, \"name\": \"AI & ML Community\"},\n",
    "        {\"id\": 104, \"name\": \"Web Dev Hub\"}\n",
    "    ]\n",
    "}\n",
    "json_data= json.dumps(document)\n",
    "print(json_data)\n",
    "print(type(json_data))\n"
   ]
  },
  {
   "cell_type": "code",
   "execution_count": 8,
   "id": "623b1b87-ec84-49c5-8747-be5498fe1cf2",
   "metadata": {},
   "outputs": [],
   "source": [
    "with open('document.json', 'w') as file:\n",
    "    json.dump(document, file)"
   ]
  },
  {
   "cell_type": "code",
   "execution_count": 16,
   "id": "0bf02686-ffe6-499d-abb4-9a4c85375eed",
   "metadata": {},
   "outputs": [],
   "source": [
    "def load_data(document):\n",
    "    with open('document.json', 'r') as file:\n",
    "        data= json.load(file)\n",
    "    return data\n",
    "\n",
    "\n",
    "    "
   ]
  },
  {
   "cell_type": "code",
   "execution_count": 17,
   "id": "b95a8441-82a1-4674-aebf-f2e4c911dae0",
   "metadata": {},
   "outputs": [],
   "source": [
    "document= load_data('document.json')"
   ]
  },
  {
   "cell_type": "code",
   "execution_count": 18,
   "id": "34356b2d-5dea-42cd-a441-346765fa1aa0",
   "metadata": {},
   "outputs": [
    {
     "data": {
      "text/plain": [
       "{'users': [{'id': 1, 'name': 'Amit', 'friends': [2, 3], 'liked_pages': [101]},\n",
       "  {'id': 2, 'name': 'Priya', 'friends': [1, 4], 'liked_pages': [102]},\n",
       "  {'id': 3, 'name': 'Rahul', 'friends': [1], 'liked_pages': [101, 103]},\n",
       "  {'id': 4, 'name': 'Sara', 'friends': [2], 'liked_pages': [104]}],\n",
       " 'pages': [{'id': 101, 'name': 'Python Developers'},\n",
       "  {'id': 102, 'name': 'Data Science Enthusiasts'},\n",
       "  {'id': 103, 'name': 'AI & ML Community'},\n",
       "  {'id': 104, 'name': 'Web Dev Hub'}]}"
      ]
     },
     "execution_count": 18,
     "metadata": {},
     "output_type": "execute_result"
    }
   ],
   "source": [
    "document"
   ]
  },
  {
   "cell_type": "code",
   "execution_count": 15,
   "id": "88009899-3090-456f-af5e-7e3744d1ad2e",
   "metadata": {},
   "outputs": [
    {
     "data": {
      "text/plain": [
       "dict"
      ]
     },
     "execution_count": 15,
     "metadata": {},
     "output_type": "execute_result"
    }
   ],
   "source": [
    "type(document)"
   ]
  },
  {
   "cell_type": "code",
   "execution_count": 26,
   "id": "c838114d-1ef9-43ed-b07f-7f44d944880b",
   "metadata": {},
   "outputs": [
    {
     "name": "stdout",
     "output_type": "stream",
     "text": [
      " Here is the information regarding :  users\n",
      "\n",
      " (ID - 1). Amit - friends: [2, 3]- linked_pages: [101]\n",
      " (ID - 2). Priya - friends: [1, 4]- linked_pages: [102]\n",
      " (ID - 3). Rahul - friends: [1]- linked_pages: [101, 103]\n",
      " (ID - 4). Sara - friends: [2]- linked_pages: [104]\n",
      " \n",
      "Here is the information regarding pages.......\n",
      "\n",
      " ID-101 - name- Python Developers\n",
      " ID-102 - name- Data Science Enthusiasts\n",
      " ID-103 - name- AI & ML Community\n",
      " ID-104 - name- Web Dev Hub\n",
      "\n",
      "Thanku so much for uploading the data\n"
     ]
    }
   ],
   "source": [
    "def display_data(document):\n",
    "    print(\" Here is the information regarding :  users\\n\")\n",
    "    for user in document[\"users\"]:\n",
    "        print(f\" (ID - {user['id']}). {user['name']} - friends: {user['friends'] }- linked_pages: {user['liked_pages']}\")\n",
    "    print(\" \\nHere is the information regarding pages.......\\n\")\n",
    "    for page in document[\"pages\"]:\n",
    "        print(f\" ID-{page['id']} - name- {page['name']}\")\n",
    "    print(\"\\nThanku so much for uploading the data\")\n",
    "\n",
    "display_data(document)"
   ]
  },
  {
   "cell_type": "code",
   "execution_count": null,
   "id": "c329c5f1-e298-4894-8802-f7c0237d8ec4",
   "metadata": {},
   "outputs": [],
   "source": []
  }
 ],
 "metadata": {
  "kernelspec": {
   "display_name": "Python (base)",
   "language": "python",
   "name": "base"
  },
  "language_info": {
   "codemirror_mode": {
    "name": "ipython",
    "version": 3
   },
   "file_extension": ".py",
   "mimetype": "text/x-python",
   "name": "python",
   "nbconvert_exporter": "python",
   "pygments_lexer": "ipython3",
   "version": "3.12.7"
  }
 },
 "nbformat": 4,
 "nbformat_minor": 5
}
