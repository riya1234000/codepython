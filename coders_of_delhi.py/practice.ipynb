{
 "cells": [
  {
   "cell_type": "code",
   "execution_count": 61,
   "id": "d252eed2-f8f7-4e20-9609-6770e2b0fbaa",
   "metadata": {},
   "outputs": [],
   "source": [
    "import json\n",
    "information_data= {\n",
    "  \"users\": [\n",
    "    {\"id\": 1, \"name\": \"Alice\", \"dost\": [2, 3], \"liked_pages\": [201]},\n",
    "    {\"id\": 2, \"name\": \"Bob\", \"dost\": [1, 4], \"liked_pages\": [202, 204]},\n",
    "    {\"id\": 3, \"name\": \" \", \"dost\": [1, 2], \"liked_pages\": [201, 203]},\n",
    "    {\"id\": 4, \"name\": \"Charlie\", \"dost\": [2, 2], \"liked_pages\": [204]},\n",
    "    {\"id\": 5, \"name\": \"David\", \"dost\": [], \"liked_pages\": []},\n",
    "    {\"id\": 6, \"name\": \"Alice\", \"dost\": [1], \"liked_pages\": [205]},\n",
    "    {\"id\": 7, \"name\": \"\", \"dost\": [1, 3], \"liked_pages\": []}\n",
    "  ],\n",
    "  \"pages\": [\n",
    "    {\"id\": 201, \"name\": \"Python Group\"},\n",
    "    {\"id\": 202, \"name\": \"Data Lovers\"},\n",
    "    {\"id\": 203, \"name\": \"AI World\"},\n",
    "    {\"id\": 204, \"name\": \"Web Dev Group\"},\n",
    "    {\"id\": 205, \"name\": \"Machine Learning\"},\n",
    "    {\"id\": 204, \"name\": \"Duplicate Web Dev\"}\n",
    "  ]\n",
    "}\n",
    "\n",
    "\n",
    "\n",
    "\n",
    "\n",
    "# Deduplicating friend lists (e.g., [2, 2] should become [2])\n",
    "\n",
    "# lets write whole information in the file.....!\n",
    "with open('information_data.json', 'w') as file:\n",
    "    json.dump(information_data, file,indent=4)\n",
    "    "
   ]
  },
  {
   "cell_type": "code",
   "execution_count": 62,
   "id": "432465ef-ea89-471a-bf1b-c03cfb9efdec",
   "metadata": {},
   "outputs": [],
   "source": [
    "import json\n",
    "\n",
    "def load_data():\n",
    "    with open('information_data.json', 'r') as file:\n",
    "        return json.load(file)"
   ]
  },
  {
   "cell_type": "code",
   "execution_count": 63,
   "id": "c7bd40ef-3f69-4ebe-8d7f-a830570285e8",
   "metadata": {},
   "outputs": [],
   "source": [
    "data= load_data()"
   ]
  },
  {
   "cell_type": "code",
   "execution_count": 64,
   "id": "68f3a86f-97c0-48f6-9570-b745da756e4a",
   "metadata": {},
   "outputs": [
    {
     "data": {
      "text/plain": [
       "{'users': [{'id': 1, 'name': 'Alice', 'dost': [2, 3], 'liked_pages': [201]},\n",
       "  {'id': 2, 'name': 'Bob', 'dost': [1, 4], 'liked_pages': [202, 204]},\n",
       "  {'id': 3, 'name': ' ', 'dost': [1, 2], 'liked_pages': [201, 203]},\n",
       "  {'id': 4, 'name': 'Charlie', 'dost': [2, 2], 'liked_pages': [204]},\n",
       "  {'id': 5, 'name': 'David', 'dost': [], 'liked_pages': []},\n",
       "  {'id': 6, 'name': 'Alice', 'dost': [1], 'liked_pages': [205]},\n",
       "  {'id': 7, 'name': '', 'dost': [1, 3], 'liked_pages': []}],\n",
       " 'pages': [{'id': 201, 'name': 'Python Group'},\n",
       "  {'id': 202, 'name': 'Data Lovers'},\n",
       "  {'id': 203, 'name': 'AI World'},\n",
       "  {'id': 204, 'name': 'Web Dev Group'},\n",
       "  {'id': 205, 'name': 'Machine Learning'},\n",
       "  {'id': 204, 'name': 'Duplicate Web Dev'}]}"
      ]
     },
     "execution_count": 64,
     "metadata": {},
     "output_type": "execute_result"
    }
   ],
   "source": [
    "data"
   ]
  },
  {
   "cell_type": "code",
   "execution_count": 65,
   "id": "2853158f-94f7-4564-ae39-62847764f967",
   "metadata": {},
   "outputs": [
    {
     "name": "stdout",
     "output_type": "stream",
     "text": [
      " Here is the information regarding users.........!\n",
      "\n",
      " the information is: ID: 1- Name: Alice, Dost: [2, 3], Liked_pages: [201]\n",
      " the information is: ID: 2- Name: Bob, Dost: [1, 4], Liked_pages: [202, 204]\n",
      " the information is: ID: 3- Name:  , Dost: [1, 2], Liked_pages: [201, 203]\n",
      " the information is: ID: 4- Name: Charlie, Dost: [2, 2], Liked_pages: [204]\n",
      " the information is: ID: 5- Name: David, Dost: [], Liked_pages: []\n",
      " the information is: ID: 6- Name: Alice, Dost: [1], Liked_pages: [205]\n",
      " the information is: ID: 7- Name: , Dost: [1, 3], Liked_pages: []\n",
      "\n",
      "here is the information regarding pages that has been used through users.......!\n",
      " the information is: ID: 201. Python Group\n",
      " the information is: ID: 202. Data Lovers\n",
      " the information is: ID: 203. AI World\n",
      " the information is: ID: 204. Web Dev Group\n",
      " the information is: ID: 205. Machine Learning\n",
      " the information is: ID: 204. Duplicate Web Dev\n",
      " \n",
      "Thank you so much ...........!\n"
     ]
    }
   ],
   "source": [
    "def display_data(information_data):\n",
    "    print(\" Here is the information regarding users.........!\\n\")\n",
    "    for user in data['users']:\n",
    "        print(f' the information is: ID: {user['id']}- Name: {user['name']}, Dost: {user['dost']}, Liked_pages: {user['liked_pages']}')\n",
    "    print('\\nhere is the information regarding pages that has been used through users.......!')\n",
    "    for page in data['pages']:\n",
    "        print(f' the information is: ID: {page['id']}. {page['name']}')\n",
    "    print(' \\nThank you so much ...........!')\n",
    "display_data(information_data)"
   ]
  },
  {
   "cell_type": "code",
   "execution_count": 66,
   "id": "041b0f51-f7d9-4373-a1e4-dbec9d444390",
   "metadata": {},
   "outputs": [
    {
     "name": "stdout",
     "output_type": "stream",
     "text": [
      " data has cleaned successfully\n"
     ]
    }
   ],
   "source": [
    "import json\n",
    "def clean_data(data):\n",
    "    \n",
    "# Removing users with empty or whitespace-only names.\n",
    "   data['users']= [user for user in data['users'] if user['name'].strip()]\n",
    "\n",
    "# Removing duplicate page entries (like id: 204 appears twice).\n",
    "\n",
    "   for user in data['users']:\n",
    "       user['dost']= list(set(user['dost']))\n",
    "    \n",
    "# Removing users with no friends or liked pages.\n",
    "\n",
    "   data['users']= [user for user in data['users'] if user['dost'] or user['liked_pages']]\n",
    "    \n",
    "# Deduplicating friend lists (e.g., [2, 2] should become [2])\n",
    "   unique_pages= {}\n",
    "   for page in data['pages']:\n",
    "    unique_pages[page['id']]= page\n",
    "   data['pages']= list(unique_pages.values())\n",
    "   return data\n",
    "\n",
    "# after doing all the changes in the data know im going to load the data.!\n",
    "with open('information_data.json', 'r') as file:\n",
    "    data=json.load(file)\n",
    "data= clean_data(data)\n",
    "\n",
    "# know im going to write whole the data in the file.............!\n",
    "with open('information_data.json', 'w') as file:\n",
    "    json.dump(data,file,indent=4)\n",
    "print(' data has cleaned successfully')"
   ]
  },
  {
   "cell_type": "code",
   "execution_count": 9,
   "id": "487711d2-f139-4462-ab41-abbe28ee55fd",
   "metadata": {},
   "outputs": [
    {
     "name": "stdout",
     "output_type": "stream",
     "text": [
      " the reccomendations are: 2 : [3]\n"
     ]
    }
   ],
   "source": [
    "import json\n",
    "# firstly load the data.............!\n",
    "def load_data(information_data):\n",
    "    with open('information_data.json', 'r') as file:\n",
    "        return json.load(file)\n",
    "\n",
    "\n",
    "def people_you_may_know(user_id, data):\n",
    "    user_dost= {}\n",
    "    for user in data['users']:\n",
    "        user_dost[user['id']]= set(user['dost'])\n",
    "\n",
    "    if user_id not in user_dost:\n",
    "        return []\n",
    "\n",
    "    direct_dost= user_dost[user_id]\n",
    "    suggestions= {}\n",
    "\n",
    "    for dost in direct_dost:\n",
    "        for mutual in user_dost.get(dost, []):\n",
    "            if mutual!= user_id and mutual not in direct_dost:\n",
    "                suggestions[mutual]= suggestions.get(mutual, 0)+1\n",
    "\n",
    "    sorted_suggestions= sorted(suggestions.items(), key= lambda x: x[1], reverse= True)\n",
    "    return [user_id for user_id, mutual_scores in sorted_suggestions]\n",
    "\n",
    "    \n",
    "\n",
    "\n",
    "data= load_data('information_data.json')\n",
    "user_id= 2\n",
    "recc= people_you_may_know(user_id, data)\n",
    "print(f\" the reccomendations are: {user_id} : {recc}\")"
   ]
  },
  {
   "cell_type": "code",
   "execution_count": 22,
   "id": "8c87a053-9626-47f6-9494-abfe4880cce7",
   "metadata": {},
   "outputs": [
    {
     "ename": "KeyError",
     "evalue": "'liked_pages'",
     "output_type": "error",
     "traceback": [
      "\u001b[1;31m---------------------------------------------------------------------------\u001b[0m",
      "\u001b[1;31mKeyError\u001b[0m                                  Traceback (most recent call last)",
      "Cell \u001b[1;32mIn[22], line 36\u001b[0m\n\u001b[0;32m     34\u001b[0m data \u001b[38;5;241m=\u001b[39m load_data()\n\u001b[0;32m     35\u001b[0m user_id \u001b[38;5;241m=\u001b[39m \u001b[38;5;241m1\u001b[39m\n\u001b[1;32m---> 36\u001b[0m recc \u001b[38;5;241m=\u001b[39m people_might_know(user_id, data)\n\u001b[0;32m     37\u001b[0m \u001b[38;5;28mprint\u001b[39m(\u001b[38;5;124mf\u001b[39m\u001b[38;5;124m\"\u001b[39m\u001b[38;5;124mThe recommendations for user \u001b[39m\u001b[38;5;132;01m{\u001b[39;00muser_id\u001b[38;5;132;01m}\u001b[39;00m\u001b[38;5;124m are: \u001b[39m\u001b[38;5;132;01m{\u001b[39;00mrecc\u001b[38;5;132;01m}\u001b[39;00m\u001b[38;5;124m\"\u001b[39m)\n",
      "Cell \u001b[1;32mIn[22], line 12\u001b[0m, in \u001b[0;36mpeople_might_know\u001b[1;34m(user_id, data)\u001b[0m\n\u001b[0;32m     10\u001b[0m \u001b[38;5;66;03m# Build dictionary of user_id -> liked pages\u001b[39;00m\n\u001b[0;32m     11\u001b[0m \u001b[38;5;28;01mfor\u001b[39;00m user \u001b[38;5;129;01min\u001b[39;00m data[\u001b[38;5;124m'\u001b[39m\u001b[38;5;124mpages\u001b[39m\u001b[38;5;124m'\u001b[39m]:\n\u001b[1;32m---> 12\u001b[0m     user_pages[user[\u001b[38;5;124m'\u001b[39m\u001b[38;5;124mid\u001b[39m\u001b[38;5;124m'\u001b[39m]] \u001b[38;5;241m=\u001b[39m \u001b[38;5;28mset\u001b[39m(user[\u001b[38;5;124m'\u001b[39m\u001b[38;5;124mliked_pages\u001b[39m\u001b[38;5;124m'\u001b[39m])\n\u001b[0;32m     14\u001b[0m \u001b[38;5;66;03m# Check if user_id exists\u001b[39;00m\n\u001b[0;32m     15\u001b[0m \u001b[38;5;28;01mif\u001b[39;00m user_id \u001b[38;5;129;01mnot\u001b[39;00m \u001b[38;5;129;01min\u001b[39;00m user_pages:\n",
      "\u001b[1;31mKeyError\u001b[0m: 'liked_pages'"
     ]
    }
   ],
   "source": [
    "import json\n",
    "\n",
    "def load_data():\n",
    "    with open('information_data.json', 'r') as file:\n",
    "        return json.load(file)\n",
    "\n",
    "def people_might_know(user_id, data):\n",
    "    user_pages = {}\n",
    "    \n",
    "    # Build dictionary of user_id -> liked pages\n",
    "    for user in data['pages']:\n",
    "        user_pages[user['id']] = set(user['liked_pages'])\n",
    "    \n",
    "    # Check if user_id exists\n",
    "    if user_id not in user_pages:\n",
    "        return []\n",
    "\n",
    "    user_liked_pages = user_pages[user_id]\n",
    "    page_suggestions = {}\n",
    "\n",
    "    # Compare with other users\n",
    "    for other_user, pages in user_pages.items():\n",
    "        if other_user != user_id:\n",
    "            shared_pages = user_liked_pages.intersection(pages)\n",
    "            for page in pages:\n",
    "                if page not in user_liked_pages:\n",
    "                    page_suggestions[page] = page_suggestions.get(page, 0) + len(shared_pages)\n",
    "\n",
    "    # Sort by number of shared pages (descending)\n",
    "    sorted_pages = sorted(page_suggestions.items(), key=lambda x: x[1], reverse=True)\n",
    "    return [page_id for page_id, _ in sorted_pages]\n",
    "\n",
    "# Load data and run recommendation\n",
    "data = load_data()\n",
    "user_id = 1\n",
    "recc = people_might_know(user_id, data)\n",
    "print(f\"The recommendations for user {user_id} are: {recc}\")\n"
   ]
  },
  {
   "cell_type": "code",
   "execution_count": null,
   "id": "85c1128a-ce01-4fd5-8307-5168a6b754c4",
   "metadata": {},
   "outputs": [],
   "source": []
  }
 ],
 "metadata": {
  "kernelspec": {
   "display_name": "Python (base)",
   "language": "python",
   "name": "base"
  },
  "language_info": {
   "codemirror_mode": {
    "name": "ipython",
    "version": 3
   },
   "file_extension": ".py",
   "mimetype": "text/x-python",
   "name": "python",
   "nbconvert_exporter": "python",
   "pygments_lexer": "ipython3",
   "version": "3.12.7"
  }
 },
 "nbformat": 4,
 "nbformat_minor": 5
}
