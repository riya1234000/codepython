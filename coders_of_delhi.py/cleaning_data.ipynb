{
 "cells": [
  {
   "cell_type": "code",
   "execution_count": 1,
   "id": "3fb410a9-3826-48fc-b002-6d65baa956f0",
   "metadata": {},
   "outputs": [],
   "source": [
    "import json\n",
    "google_data= {\n",
    " \"users\": [\n",
    "  {\"id\": 1, \"name\": \"Amit\", \"friends\": [2, 3], \"liked_pages\": [101]},\n",
    "  {\"id\": 2, \"name\": \"Priya\", \"friends\": [1, 4], \"liked_pages\": [102]},\n",
    "  {\"id\": 3, \"name\": \" \", \"friends\": [1], \"liked_pages\": [101, 103]},\n",
    "  {\"id\": 4, \"name\": \"Sara\", \"friends\": [2,2], \"liked_pages\": [104]},\n",
    "  {\"id\": 5, \"name\": \"Amit\", \"friends\": [], \"liked_pages\": []}\n",
    "],\n",
    " \"pages\": [\n",
    "  {\"id\": 101, \"name\": \"Python Developers\"},\n",
    "  {\"id\": 102, \"name\": \"Data Science Enthusiasts\"},\n",
    "  {\"id\": 103, \"name\": \"AI & ML Community\"},\n",
    "  {\"id\": 104, \"name\": \"Web Dev Hub\"},\n",
    "  {\"id\": 104, \"name\": \"Web Development\"}\n",
    "     ]\n",
    "  }\n",
    "#  write the data into a file\n",
    "with open(\"google_data.json\", 'w') as file:\n",
    "    json.dump(google_data, file)"
   ]
  },
  {
   "cell_type": "code",
   "execution_count": 4,
   "id": "c33b01f9-f8c3-4d9b-8133-f2bde2447b73",
   "metadata": {},
   "outputs": [],
   "source": [
    "def load_data(google_data):\n",
    "    with open('google_data.json', 'r') as file:\n",
    "     return json.load(file)"
   ]
  },
  {
   "cell_type": "code",
   "execution_count": 5,
   "id": "49d0555b-6d0a-416a-a1a8-d421e08cd836",
   "metadata": {},
   "outputs": [],
   "source": [
    "data= load_data(google_data)\n"
   ]
  },
  {
   "cell_type": "code",
   "execution_count": 6,
   "id": "9eb60ab6-54c2-45fa-9e1e-4b79c1c01252",
   "metadata": {},
   "outputs": [
    {
     "data": {
      "text/plain": [
       "{'users': [{'id': 1, 'name': 'Amit', 'friends': [2, 3], 'liked_pages': [101]},\n",
       "  {'id': 2, 'name': 'Priya', 'friends': [1, 4], 'liked_pages': [102]},\n",
       "  {'id': 3, 'name': ' ', 'friends': [1], 'liked_pages': [101, 103]},\n",
       "  {'id': 4, 'name': 'Sara', 'friends': [2, 2], 'liked_pages': [104]},\n",
       "  {'id': 5, 'name': 'Amit', 'friends': [], 'liked_pages': []}],\n",
       " 'pages': [{'id': 101, 'name': 'Python Developers'},\n",
       "  {'id': 102, 'name': 'Data Science Enthusiasts'},\n",
       "  {'id': 103, 'name': 'AI & ML Community'},\n",
       "  {'id': 104, 'name': 'Web Dev Hub'},\n",
       "  {'id': 104, 'name': 'Web Development'}]}"
      ]
     },
     "execution_count": 6,
     "metadata": {},
     "output_type": "execute_result"
    }
   ],
   "source": [
    "data"
   ]
  },
  {
   "cell_type": "code",
   "execution_count": 18,
   "id": "6834ba38-282a-47f2-8256-a7aac2aa08ae",
   "metadata": {},
   "outputs": [
    {
     "name": "stdout",
     "output_type": "stream",
     "text": [
      "this is shown the information regarding users\n",
      "\n",
      "  ID- 1. Names: Amit, Friends: [2, 3], Liked_pages: [101]\n",
      "  ID- 2. Names: Priya, Friends: [1, 4], Liked_pages: [102]\n",
      "  ID- 3. Names:  , Friends: [1], Liked_pages: [101, 103]\n",
      "  ID- 4. Names: Sara, Friends: [2, 2], Liked_pages: [104]\n",
      "  ID- 5. Names: Amit, Friends: [], Liked_pages: []\n",
      "\n",
      " this shown the information regarding pages of the users used \n",
      "\n",
      " ID- 101. Name: Python Developers\n",
      " ID- 102. Name: Data Science Enthusiasts\n",
      " ID- 103. Name: AI & ML Community\n",
      " ID- 104. Name: Web Dev Hub\n",
      " ID- 104. Name: Web Development\n",
      " \n",
      "Thanku so much...........\n"
     ]
    }
   ],
   "source": [
    "def display_data(google_data):\n",
    "    print(\"this is shown the information regarding users\\n\")\n",
    "    for user in google_data['users']:\n",
    "        print(f\"  ID- {user['id']}. Names: {user['name']}, Friends: {user['friends']}, Liked_pages: {user['liked_pages']}\")\n",
    "    print('\\n this shown the information regarding pages of the users used \\n')\n",
    "    for page in google_data['pages']:\n",
    "        print(f\" ID- {page['id']}. Name: {page['name']}\")\n",
    "    print(\" \\nThanku so much...........\")\n",
    "display_data(google_data)"
   ]
  },
  {
   "cell_type": "code",
   "execution_count": 24,
   "id": "11d88499-422b-448f-8a22-8b633c360309",
   "metadata": {},
   "outputs": [
    {
     "name": "stdout",
     "output_type": "stream",
     "text": [
      "data has been cleaned successfully\n"
     ]
    }
   ],
   "source": [
    "import json\n",
    "def cleaned_data(data):\n",
    "    # remove the empty spaces from the name option..........!\n",
    "    data['users']= [user for user in data['users'] if user['name'].strip()]\n",
    "\n",
    "     # remove the duplication friends from the users.!\n",
    "    for user in data['users']:\n",
    "         user['friends']= list(set(user['friends']))\n",
    "\n",
    "    # remove the empty friends or liked_pages from the users......!\n",
    "    data['users']= [user for user in data['users'] if user['friends'] or user['liked_pages']]\n",
    "\n",
    "    # we r using the dictionary because there is a key and values..!\n",
    "    unique_pages= {}\n",
    "    for page in data['pages']:\n",
    "        unique_pages[pages['id']]= page # this is assumed as the key and keep the last duplicate value \n",
    "    return data\n",
    "\n",
    "\n",
    "# load the data after doing all the operations.....!\n",
    "with open('google_data.json', 'r') as file:\n",
    "   data= json.load(file)\n",
    "cleaned_data(data)\n",
    "\n",
    "# after read all the data now, write all the data..........!\n",
    "with open('google_data.json','w') as file:\n",
    "    json.dump(data, file, indent=4)\n",
    "print('data has been cleaned successfully')"
   ]
  },
  {
   "cell_type": "code",
   "execution_count": 46,
   "id": "2807d0b5-d8cd-48ce-b674-fe8278ce46fe",
   "metadata": {},
   "outputs": [
    {
     "name": "stdout",
     "output_type": "stream",
     "text": [
      "People You May Know for User 2: [3]\n"
     ]
    }
   ],
   "source": [
    "import json\n",
    "\n",
    "# Load the data from the file\n",
    "def load_data(google_data):\n",
    "    with open(\"google_data.json\", \"r\") as file:\n",
    "        return json.load(file)\n",
    "\n",
    "# Recommend people you may know\n",
    "def people_you_may_know(user_id, data):\n",
    "    user_friends = {}\n",
    "    for user in data['users']:\n",
    "        user_friends[user['id']] = set(user['friends'])\n",
    "\n",
    "    if user_id not in user_friends:\n",
    "        return []\n",
    "\n",
    "    direct_friends = user_friends[user_id]\n",
    "    suggestions = {}\n",
    "\n",
    "    for friend in direct_friends:\n",
    "        for mutual in user_friends[friend]:\n",
    "            if mutual != user_id and mutual not in direct_friends:\n",
    "                suggestions[mutual] = suggestions.get(mutual, 0) + 1\n",
    "\n",
    "    sorted_suggestions = sorted(suggestions.items(), key=lambda x: x[1], reverse=True)\n",
    "    return [user_id for user_id, mutual_score in sorted_suggestions]\n",
    "\n",
    "# Load data\n",
    "data = load_data(\"cleaned_google_data.json\")\n",
    "\n",
    "# Example usage\n",
    "user_id = 2\n",
    "recc = people_you_may_know(user_id, data)\n",
    "print(f\"People You May Know for User {user_id}: {recc}\")\n"
   ]
  },
  {
   "cell_type": "code",
   "execution_count": 1,
   "id": "4dfaeb79-c9df-4a21-9c4b-c5452827e72a",
   "metadata": {},
   "outputs": [
    {
     "name": "stdout",
     "output_type": "stream",
     "text": [
      " the recommendations are: 5, []\n"
     ]
    }
   ],
   "source": [
    "import json\n",
    "# firstly load the data\n",
    "def load_data(google_data):\n",
    "    with open('google_data.json', 'r') as file:\n",
    "        return json.load(file)\n",
    "\n",
    "def people_you_may_know(user_id, data):\n",
    "    user_friends= {}\n",
    "    for user in data['users']:\n",
    "        user_friends[user['id']]= set(user['friends'])\n",
    "\n",
    "    if user_id not in user_friends:\n",
    "        return []\n",
    "\n",
    "    direct_friends= user_friends[user_id]\n",
    "    suggestions={}\n",
    "\n",
    "    for friend in direct_friends:\n",
    "        for mutual in user_friends[friend]:\n",
    "            if mutual!=user_id and mutual not in direct_friends:\n",
    "                suggestions[mutual]= suggestions.get(mutual, 0) +1\n",
    "\n",
    "    sorted_suggestions= sorted(suggestions.items(), key= lambda x: x[1], reverse= True)\n",
    "    return [user_id for user_id, mutual_scores in sorted_suggestions]\n",
    "    \n",
    "# after the the changes occur lts reload the data........!\n",
    "data= load_data('cleaned_google_data.json')\n",
    "user_id= 5\n",
    "recommendations= people_you_may_know(user_id, data)\n",
    "print(f' the recommendations are: {user_id}, {recommendations}')\n",
    "\n"
   ]
  },
  {
   "cell_type": "code",
   "execution_count": 2,
   "id": "c4793d8f-e541-4da8-9a52-3ffcd1f15f51",
   "metadata": {},
   "outputs": [],
   "source": [
    "                                                                test     #### practice data.................!\n",
    "\n",
    "import json\n",
    "social_data = {\n",
    "    \"users\": [\n",
    "        {\"id\": 1, \"name\": \"Rahul\", \"friends\": [2, 4], \"liked_pages\": [201]},\n",
    "        {\"id\": 2, \"name\": \"Anita\", \"friends\": [1, 3], \"liked_pages\": [202]},\n",
    "        {\"id\": 3, \"name\": \" \", \"friends\": [2], \"liked_pages\": [201, 203]},\n",
    "        {\"id\": 4, \"name\": \"Zara\", \"friends\": [2, 2], \"liked_pages\": [204]},\n",
    "        {\"id\": 5, \"name\": \"Rahul\", \"friends\": [], \"liked_pages\": []}\n",
    "    ],\n",
    "    \"pages\": [\n",
    "        {\"id\": 201, \"name\": \"Machine Learning World\"},\n",
    "        {\"id\": 202, \"name\": \"Data Lovers\"},\n",
    "        {\"id\": 203, \"name\": \"Cloud Computing\"},\n",
    "        {\"id\": 204, \"name\": \"Frontend Gurus\"},\n",
    "        {\"id\": 204, \"name\": \"Frontend Developers\"}\n",
    "    ]\n",
    "}\n",
    "with open('social_data.json', 'w') as file:\n",
    "    json.dump(social_data, file)"
   ]
  },
  {
   "cell_type": "code",
   "execution_count": 3,
   "id": "b5aaa2eb-7b9f-4d1d-958b-b997083298aa",
   "metadata": {},
   "outputs": [],
   "source": [
    "def load_data(social_data):\n",
    "    with open('social_data.json', 'r') as file:\n",
    "        return json.load(file)"
   ]
  },
  {
   "cell_type": "code",
   "execution_count": 4,
   "id": "6cd1486e-d569-4d54-a9c3-093646114bad",
   "metadata": {},
   "outputs": [],
   "source": [
    "data= load_data(social_data)"
   ]
  },
  {
   "cell_type": "code",
   "execution_count": 5,
   "id": "ea66e4ed-b676-402f-8f5b-e128eb4c6ede",
   "metadata": {},
   "outputs": [
    {
     "data": {
      "text/plain": [
       "{'users': [{'id': 1, 'name': 'Rahul', 'friends': [2, 4], 'liked_pages': [201]},\n",
       "  {'id': 2, 'name': 'Anita', 'friends': [1, 3], 'liked_pages': [202]},\n",
       "  {'id': 3, 'name': ' ', 'friends': [2], 'liked_pages': [201, 203]},\n",
       "  {'id': 4, 'name': 'Zara', 'friends': [2, 2], 'liked_pages': [204]},\n",
       "  {'id': 5, 'name': 'Rahul', 'friends': [], 'liked_pages': []}],\n",
       " 'pages': [{'id': 201, 'name': 'Machine Learning World'},\n",
       "  {'id': 202, 'name': 'Data Lovers'},\n",
       "  {'id': 203, 'name': 'Cloud Computing'},\n",
       "  {'id': 204, 'name': 'Frontend Gurus'},\n",
       "  {'id': 204, 'name': 'Frontend Developers'}]}"
      ]
     },
     "execution_count": 5,
     "metadata": {},
     "output_type": "execute_result"
    }
   ],
   "source": [
    "data"
   ]
  },
  {
   "cell_type": "code",
   "execution_count": 13,
   "id": "2de53952-7983-4a59-b18f-45f50b2c09a0",
   "metadata": {},
   "outputs": [
    {
     "name": "stdout",
     "output_type": "stream",
     "text": [
      " Here is the regarding the social_data with the uses of the users...... \n",
      "\n",
      " the information is:  ID: 1. Name: Rahul , Friends: [2, 4], Linked_pages: [201]\n",
      " the information is:  ID: 2. Name: Anita , Friends: [1, 3], Linked_pages: [202]\n",
      " the information is:  ID: 3. Name:   , Friends: [2], Linked_pages: [201, 203]\n",
      " the information is:  ID: 4. Name: Zara , Friends: [2, 2], Linked_pages: [204]\n",
      " the information is:  ID: 5. Name: Rahul , Friends: [], Linked_pages: []\n",
      " \n",
      "Here is the information regarding Pages......\n",
      "\n",
      " the information is regarding : ID: 201. Name: Machine Learning World\n",
      " the information is regarding : ID: 202. Name: Data Lovers\n",
      " the information is regarding : ID: 203. Name: Cloud Computing\n",
      " the information is regarding : ID: 204. Name: Frontend Gurus\n",
      " the information is regarding : ID: 204. Name: Frontend Developers\n",
      " \n",
      "Thanku so much.................\n"
     ]
    }
   ],
   "source": [
    "def display_data(social_data):\n",
    "    print(' Here is the regarding the social_data with the uses of the users...... \\n')\n",
    "    for user in data['users']:\n",
    "      print(f\" the information is:  ID: {user['id']}. Name: {user['name']} , Friends: {user['friends']}, Linked_pages: {user['liked_pages']}\")\n",
    "    print(' \\nHere is the information regarding Pages......\\n')\n",
    "    for page in data['pages']:\n",
    "      print(f' the information is regarding : ID: {page['id']}. Name: {page['name']}')\n",
    "    print(' \\nThanku so much.................')\n",
    "\n",
    "display_data(social_data)"
   ]
  },
  {
   "cell_type": "code",
   "execution_count": 50,
   "id": "70310aba-41d6-4a0f-92b0-5458716ee7be",
   "metadata": {},
   "outputs": [],
   "source": [
    "def clean_data(data):\n",
    "    # Remove users with blank names (after stripping spaces)\n",
    "    data['users'] = [user for user in data['users'] if user.get('name', '').strip()]\n",
    "\n",
    "    # Remove duplicate friend IDs only if 'friends' key exists\n",
    "    for user in data['users']:\n",
    "        if 'friends' in user and isinstance(user['friends'], list):\n",
    "            user['friends'] = list(set(user['friends']))\n",
    "        else:\n",
    "            user['friends'] = []\n",
    "\n",
    "    # Remove users who have neither friends nor liked pages\n",
    "    data['users'] = [\n",
    "        user for user in data['users']\n",
    "        if user.get('friends') or user.get('liked_pages')\n",
    "    ]\n",
    "\n",
    "    # Remove duplicate pages by ID, keeping the latest\n",
    "    unique_pages = {}\n",
    "    for page in data['pages']:\n",
    "        if 'id' in page:\n",
    "            unique_pages[page['id']] = page\n",
    "    data['pages'] = list(unique_pages.values())\n",
    "\n",
    "    return data\n"
   ]
  },
  {
   "cell_type": "code",
   "execution_count": null,
   "id": "1c25d05b-ca0a-4d86-bdfb-3670acd27dd6",
   "metadata": {},
   "outputs": [],
   "source": []
  }
 ],
 "metadata": {
  "kernelspec": {
   "display_name": "Python (base)",
   "language": "python",
   "name": "base"
  },
  "language_info": {
   "codemirror_mode": {
    "name": "ipython",
    "version": 3
   },
   "file_extension": ".py",
   "mimetype": "text/x-python",
   "name": "python",
   "nbconvert_exporter": "python",
   "pygments_lexer": "ipython3",
   "version": "3.12.7"
  }
 },
 "nbformat": 4,
 "nbformat_minor": 5
}
