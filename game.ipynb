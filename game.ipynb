{
 "cells": [
  {
   "cell_type": "code",
   "execution_count": 4,
   "id": "fa0f6378-98b9-4090-b6ea-50340208d40d",
   "metadata": {},
   "outputs": [
    {
     "name": "stdout",
     "output_type": "stream",
     "text": [
      "you r playing the game...!\n",
      " your score: 56\n"
     ]
    },
    {
     "data": {
      "text/plain": [
       "56"
      ]
     },
     "execution_count": 4,
     "metadata": {},
     "output_type": "execute_result"
    }
   ],
   "source": [
    "import random\n",
    "def game():\n",
    "    print(\"you r playing the game...!\")\n",
    "    score= random.randint(1,66)\n",
    "    # fetch the hiscore while open this file on the read mode....\n",
    "    with open('hiscore.txt', 'r')as f:\n",
    "        hiscore= f.read()\n",
    "        if (hiscore!=''):\n",
    "            hiscore= int(hiscore)\n",
    "        else:\n",
    "            hiscore= 0\n",
    "    print(f\" your score: {score}\")\n",
    "    if (score>hiscore):\n",
    "        with open('hiscore.txt', 'w') as f:\n",
    "            f.write(str(score))\n",
    "    return score\n",
    "game()\n",
    "        "
   ]
  },
  {
   "cell_type": "code",
   "execution_count": 9,
   "id": "9e5a0c54-53e2-4352-b061-44f21d8accc3",
   "metadata": {},
   "outputs": [
    {
     "name": "stdout",
     "output_type": "stream",
     "text": [
      " you r playing the game\n",
      " your score: 59\n"
     ]
    },
    {
     "data": {
      "text/plain": [
       "59"
      ]
     },
     "execution_count": 9,
     "metadata": {},
     "output_type": "execute_result"
    }
   ],
   "source": [
    "import random\n",
    "def game():\n",
    "    print(\" you r playing the game\")\n",
    "    score= random.randint(1,66)\n",
    "    # fetch the file using read mode in the file.............!\n",
    "    with open('hyscore.txt', 'r') as f:\n",
    "        hyscore= f.read()\n",
    "        if (hyscore!=''):\n",
    "            hyscore= int(hyscore)\n",
    "        else:\n",
    "            hyscore=0\n",
    "    print(f\" your score: {score}\")\n",
    "    if (score>hyscore):\n",
    "        with open('hyscore.txt', 'w') as f:\n",
    "            f.write(str(score))\n",
    "    return score\n",
    "game()\n",
    "\n",
    "    \n",
    "        \n",
    "    "
   ]
  },
  {
   "cell_type": "code",
   "execution_count": null,
   "id": "bc7cd3c6-72d2-4101-b8f5-3dee4b9c62b8",
   "metadata": {},
   "outputs": [],
   "source": []
  }
 ],
 "metadata": {
  "kernelspec": {
   "display_name": "Python (base)",
   "language": "python",
   "name": "base"
  },
  "language_info": {
   "codemirror_mode": {
    "name": "ipython",
    "version": 3
   },
   "file_extension": ".py",
   "mimetype": "text/x-python",
   "name": "python",
   "nbconvert_exporter": "python",
   "pygments_lexer": "ipython3",
   "version": "3.12.7"
  }
 },
 "nbformat": 4,
 "nbformat_minor": 5
}
