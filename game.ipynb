{
 "cells": [
  {
   "cell_type": "code",
   "execution_count": 4,
   "id": "fa0f6378-98b9-4090-b6ea-50340208d40d",
   "metadata": {},
   "outputs": [
    {
     "name": "stdout",
     "output_type": "stream",
     "text": [
      "you r playing the game...!\n",
      " your score: 56\n"
     ]
    },
    {
     "data": {
      "text/plain": [
       "56"
      ]
     },
     "execution_count": 4,
     "metadata": {},
     "output_type": "execute_result"
    }
   ],
   "source": [
    "import random\n",
    "def game():\n",
    "    print(\"you r playing the game...!\")\n",
    "    score= random.randint(1,66)\n",
    "    # fetch the hiscore while open this file on the read mode....\n",
    "    with open('hiscore.txt', 'r')as f:\n",
    "        hiscore= f.read()\n",
    "        if (hiscore!=''):\n",
    "            hiscore= int(hiscore)\n",
    "        else:\n",
    "            hiscore= 0\n",
    "    print(f\" your score: {score}\")\n",
    "    if (score>hiscore):\n",
    "        with open('hiscore.txt', 'w') as f:\n",
    "            f.write(str(score))\n",
    "    return score\n",
    "game()\n",
    "        "
   ]
  },
  {
   "cell_type": "code",
   "execution_count": 9,
   "id": "9e5a0c54-53e2-4352-b061-44f21d8accc3",
   "metadata": {},
   "outputs": [
    {
     "name": "stdout",
     "output_type": "stream",
     "text": [
      " you r playing the game\n",
      " your score: 59\n"
     ]
    },
    {
     "data": {
      "text/plain": [
       "59"
      ]
     },
     "execution_count": 9,
     "metadata": {},
     "output_type": "execute_result"
    }
   ],
   "source": [
    "import random\n",
    "def game():\n",
    "    print(\" you r playing the game\")\n",
    "    score= random.randint(1,66)\n",
    "    # fetch the file using read mode in the file.............!\n",
    "    with open('hyscore.txt', 'r') as f:\n",
    "        hyscore= f.read()\n",
    "        if (hyscore!=''):\n",
    "            hyscore= int(hyscore)\n",
    "        else:\n",
    "            hyscore=0\n",
    "    print(f\" your score: {score}\")\n",
    "    if (score>hyscore):\n",
    "        with open('hyscore.txt', 'w') as f:\n",
    "            f.write(str(score))\n",
    "    return score\n",
    "game()\n",
    "\n",
    "    \n",
    "        \n",
    "    "
   ]
  },
  {
   "cell_type": "code",
   "execution_count": null,
   "id": "bc7cd3c6-72d2-4101-b8f5-3dee4b9c62b8",
   "metadata": {},
   "outputs": [],
   "source": []
  }
 ],
 "metadata": {
  "kernelspec": {
   "display_name": "Python (base)",
   "language": "python",
   "name": "base"
  },
  "language_info": {
   "codemirror_mode": {
    "name": "ipython",
    "version": 3
   },
   "file_extension": ".py",
   "mimetype": "text/x-python",
   "name": "python",
   "nbconvert_exporter": "python",
   "pygments_lexer": "ipython3",
   "version": "3.12.7"
  }
 },
 "nbformat": 4,
 "nbformat_minor": 5
}


                                    # rolling 2 dice game...........!
                               
import random

while True:
    choice= input('enter the user wanna game yes/no: ').strip().lower()
    if choice=='yes':
        dice1= random.randint(1,6)
        dice2= random.randint(1,6)
        print(f' the no. for the dice1 is: {dice1} and dice2 is: {dice2}')
    elif (choice=='no'):
        print('thanku so much try again next time')
        break
    else:
        
        print('invalid text')

                               # ROLLING DICE GAME USING ENUMERATE........

import random
while True:
    choice= input(" enter the choice of the user (yes/no):  ").strip().lower()
    if choice=='yes':
        print('lets start the game baby.................')
        
        dice_values= [random.randint(1,6) for _ in range(2)]

        for index , value in enumerate(dice_values, start=1):
           print(f' index is :  {index} and value {value}')

        if dice_values[0]== dice_values[1]:
            print('its a tie baby..........!')

    elif choice== 'no':
        print('try again next time.........!')
        break

    else:
        print('invalid text , please enter (yes/no) if wanna start the game')


               # GUESSING GAME.........

mber was: {guess_number}')
        
        # Ask if the user wants to play again
        play_again = input('Do you want to play again? (yes/no): ').strip().lower()
        
        if play_again == 'no':
            print('Thank you for playing! See you next time.')
            break
    
    elif choice == 'no':
        print('import random

print("---- Number Guessing Game ----")

while True:
    choice = input('Hey user, do you want to play the game? (yes/no): ').strip().lower()
    
    if choice == 'yes':
        print('Let\'s start the game.........')
        
        # Generate a random number
        guess_number = random.randint(1, 100)
        
        # Counter for attempts
        attempts = 0
        
        # Start guessing loop
        while True:
            user_input = input('Enter a number from 1 to 100: ')
            
            # Check if input is a digit
            if not user_input.isdigit():
                print("Invalid input! Please enter a valid number.")
                continue
            
            # Convert to integer
            user = int(user_input)
            attempts += 1
    
            if user == guess_number:
                print(f'Congratulations! You guessed it right, it\'s a tie!')
                print(f'You took {attempts} attempts to guess the correct number.')
                break
            elif user < guess_number:
                print('Please enter a higher value.')
            elif user > guess_number:
                print('Please enter a lower value.')

        # Display the correct number and ask if they want to play again
        print(f'The correct nuThank you for playing! Try again next time.')
        break
    else:
        print('Invalid input, please enter "yes" or "no".')


                # calculator
class Calculator:
    
    def __init__(self, num1, num2):
            self.num1= num1
            self.num2= num2
    def perform_operations(self):
            print('\nselect the options')
            print('1 . add')
            print('2 . sub')
            print('3 . mul')
            print('4 . div')
    
            choice= input('enter the choice: 1/2/3/4: ')
            if choice=='1':
              print(f" the addition of the two numbers are:  {self.num1 + self.num2} ")
            elif choice=='2':
              print(f" the subtraction of the two numbers are:  {self.num1 - self.num2} ")
            elif choice=='3':
              print(f" the multiplication of the two numbers are:  {self.num1 * self.num2} ")
            elif choice=='4':
              print(f" the division of the two numbers are:  {self.num1 / self.num2} ")
    
num1= int(input('enter the num1:  '))
num2= int(input('enter the num2:  '))
c= Calculator(num1,num2)
c.perform_operations()



            # to do list........!
# add the task
# view the task
#remove the task

tasks= []
def add_task(task):
    tasks.append(task)
    print(f' the task is : {task}')

def view_task():
    if not  tasks:
        print('not available')
    else:
        print('your todolist is ready')
        for index, task in enumerate(tasks, start=1):
            print(f" {index} and {task}")

def remove(task_number):
    if 0< task_number<=len(tasks):
        removed= tasks.pop(task_number -1)
        print(f" the removed item is: {removed}")
    else:
        print('invalid task number')

while True:
    print('\n1. add_task \n2. view task \n3. removed task  \n. exit')
    choice= input("choose an option: ")
    if choice=='1':
        task= input('enter the task:  ')
        add_task(task)
    elif( choice=='2'):
        view_task()
    elif( choice=='3'):
        view_task()
        task_number= int(input('enter the number which one is u wanna remove:  '))
        remove_task(task_number)
    elif(choice=='4'):
        break
    else:
        print('invalid option')

                                       # WEATHER CHECKING...........!
import requests

def get_weather(city):
    api_key = "your_openweathermap_api_key"
    url = f"http://api.openweathermap.org/data/2.5/weather?q={city}&appid={api_key}&units=metric"
    response = requests.get(url)
    
    if response.status_code == 200:
        data = response.json()
        print(f"Weather in {city}: {data['weather'][0]['description']}")
        print(f"Temperature: {data['main']['temp']}°C")
        print(f"Humidity: {data['main']['humidity']}%")
    else:
        print("City not found.")

city_name = input("Enter the city name: ")
get_weather(city_name)

                        # GENERATE A STRONG PASSWORD

import random
import string

def generate_password(length):
    characters = string.ascii_letters + string.digits + string.punctuation
    password = ''.join(random.choice(characters) for i in range(length))
    return password

length = int(input("Enter password length: "))
print(f"Generated Password: {generate_password(length)}")

                  
    

         
        
